{
 "cells": [
  {
   "cell_type": "code",
   "execution_count": null,
   "metadata": {
    "deletable": false,
    "editable": false,
    "nbgrader": {
     "cell_type": "code",
     "checksum": "e45d05a7e6705e7bc18fff5d5890ef58",
     "grade": false,
     "grade_id": "cell-44ca835c70f3040a",
     "locked": true,
     "schema_version": 3,
     "solution": false,
     "task": false
    }
   },
   "outputs": [],
   "source": [
    "%%javascript\n",
    "IPython.OutputArea.prototype._should_scroll = function(lines) {\n",
    "    return false; // disable scroll bar when displaying Folium map\n",
    "}"
   ]
  },
  {
   "cell_type": "markdown",
   "metadata": {
    "deletable": false,
    "editable": false,
    "nbgrader": {
     "cell_type": "markdown",
     "checksum": "ae6111747a75bdb5c5393f44d1045577",
     "grade": false,
     "grade_id": "cell-c676d66924c74eea",
     "locked": true,
     "schema_version": 3,
     "solution": false,
     "task": false
    }
   },
   "source": [
    "# Assignment 2\n",
    "\n",
    "Before working on this assignment please read these instructions fully. In the submission area, you will notice that you can click the link to **Preview the Grading** for each step of the assignment. This is the criteria that will be used for peer grading. Please familiarize yourself with the criteria before beginning the assignment.\n",
    "\n",
    "The data for this assignment comes from a subset of The National Centers for Environmental Information (NCEI) [Global Historical Climatology Network daily (GHCNd)](https://www.ncei.noaa.gov/products/land-based-station/global-historical-climatology-network-daily) (GHCN-Daily). The GHCN-Daily is comprised of daily climate records from thousands of land surface stations across the globe - it's a wonderfully large dataset to play with! In particular, you will be asked to use data from the Ann Arbor Michigan location (my home!). and this is stored in the file: `assets/fb441e62df2d58994928907a91895ec62c2c42e6cd075c2700843b89.csv`\n",
    "\n",
    "Each row in this datafile corresponds to a single observation from a weather station, and has the following variables:\n",
    "* **id** : station identification code\n",
    "* **date** : date in YYYY-MM-DD format (e.g. 2012-01-24 = January 24, 2012)\n",
    "* **element** : indicator of element type\n",
    "    * TMAX : Maximum temperature (tenths of degrees C)\n",
    "    * TMIN : Minimum temperature (tenths of degrees C)\n",
    "* **value** : data value for element (tenths of degrees C)\n",
    "\n",
    "For this assignment, you must:\n",
    "\n",
    "1. Read the documentation and familiarize yourself with the dataset, then write a python notebook which plots line graphs of the record high and record low temperatures by day of the year over the period 2005-2014. The area between the record high and record low temperatures for each day should be shaded.\n",
    "2. Overlay a scatter of the 2015 data for any points (highs and lows) for which the ten year record (2005-2014) record high or record low was broken in 2015. (Based on the graph, do you think extreme weather is getting more frequent in 2015?)\n",
    "3. Watch out for leap days (i.e. February 29th), it is reasonable to remove these points from the dataset for the purpose of this visualization.\n",
    "4. Make the visual nice! Leverage principles from the first module in this course when developing your solution. Consider issues such as legends, labels, and chart junk.\n",
    "\n",
    "I've written some steps I think would be good to go through, but there are other ways to solve this assignment so feel free to explore the pandas library! What I really want to see is an image that looks like this sketch I drew at my desk:\n",
    "\n",
    "![](assets/chris_sketch.png)"
   ]
  },
  {
   "cell_type": "code",
   "execution_count": 3,
   "metadata": {
    "deletable": false,
    "editable": false,
    "nbgrader": {
     "cell_type": "code",
     "checksum": "d8d9355fc55599cd2ad34fdd140baac1",
     "grade": false,
     "grade_id": "cell-f01cb0e8645e7c07",
     "locked": true,
     "schema_version": 3,
     "solution": false,
     "task": false
    }
   },
   "outputs": [
    {
     "data": {
      "text/html": [
       "<div style=\"width:100%;\"><div style=\"position:relative;width:100%;height:0;padding-bottom:60%;\"><span style=\"color:#565656\">Make this Notebook Trusted to load map: File -> Trust Notebook</span><iframe srcdoc=\"&lt;!DOCTYPE html&gt;\n",
       "&lt;html&gt;\n",
       "&lt;head&gt;\n",
       "    \n",
       "    &lt;meta http-equiv=&quot;content-type&quot; content=&quot;text/html; charset=UTF-8&quot; /&gt;\n",
       "    \n",
       "        &lt;script&gt;\n",
       "            L_NO_TOUCH = false;\n",
       "            L_DISABLE_3D = false;\n",
       "        &lt;/script&gt;\n",
       "    \n",
       "    &lt;style&gt;html, body {width: 100%;height: 100%;margin: 0;padding: 0;}&lt;/style&gt;\n",
       "    &lt;style&gt;#map {position:absolute;top:0;bottom:0;right:0;left:0;}&lt;/style&gt;\n",
       "    &lt;script src=&quot;https://cdn.jsdelivr.net/npm/leaflet@1.6.0/dist/leaflet.js&quot;&gt;&lt;/script&gt;\n",
       "    &lt;script src=&quot;https://code.jquery.com/jquery-1.12.4.min.js&quot;&gt;&lt;/script&gt;\n",
       "    &lt;script src=&quot;https://maxcdn.bootstrapcdn.com/bootstrap/3.2.0/js/bootstrap.min.js&quot;&gt;&lt;/script&gt;\n",
       "    &lt;script src=&quot;https://cdnjs.cloudflare.com/ajax/libs/Leaflet.awesome-markers/2.0.2/leaflet.awesome-markers.js&quot;&gt;&lt;/script&gt;\n",
       "    &lt;link rel=&quot;stylesheet&quot; href=&quot;https://cdn.jsdelivr.net/npm/leaflet@1.6.0/dist/leaflet.css&quot;/&gt;\n",
       "    &lt;link rel=&quot;stylesheet&quot; href=&quot;https://maxcdn.bootstrapcdn.com/bootstrap/3.2.0/css/bootstrap.min.css&quot;/&gt;\n",
       "    &lt;link rel=&quot;stylesheet&quot; href=&quot;https://maxcdn.bootstrapcdn.com/bootstrap/3.2.0/css/bootstrap-theme.min.css&quot;/&gt;\n",
       "    &lt;link rel=&quot;stylesheet&quot; href=&quot;https://maxcdn.bootstrapcdn.com/font-awesome/4.6.3/css/font-awesome.min.css&quot;/&gt;\n",
       "    &lt;link rel=&quot;stylesheet&quot; href=&quot;https://cdnjs.cloudflare.com/ajax/libs/Leaflet.awesome-markers/2.0.2/leaflet.awesome-markers.css&quot;/&gt;\n",
       "    &lt;link rel=&quot;stylesheet&quot; href=&quot;https://cdn.jsdelivr.net/gh/python-visualization/folium/folium/templates/leaflet.awesome.rotate.min.css&quot;/&gt;\n",
       "    \n",
       "            &lt;meta name=&quot;viewport&quot; content=&quot;width=device-width,\n",
       "                initial-scale=1.0, maximum-scale=1.0, user-scalable=no&quot; /&gt;\n",
       "            &lt;style&gt;\n",
       "                #map_0ec0c66d186f23605095aa9c16cb40a6 {\n",
       "                    position: relative;\n",
       "                    width: 100.0%;\n",
       "                    height: 500.0px;\n",
       "                    left: 0.0%;\n",
       "                    top: 0.0%;\n",
       "                }\n",
       "            &lt;/style&gt;\n",
       "        \n",
       "&lt;/head&gt;\n",
       "&lt;body&gt;\n",
       "    \n",
       "    \n",
       "            &lt;div class=&quot;folium-map&quot; id=&quot;map_0ec0c66d186f23605095aa9c16cb40a6&quot; &gt;&lt;/div&gt;\n",
       "        \n",
       "&lt;/body&gt;\n",
       "&lt;script&gt;\n",
       "    \n",
       "    \n",
       "            var map_0ec0c66d186f23605095aa9c16cb40a6 = L.map(\n",
       "                &quot;map_0ec0c66d186f23605095aa9c16cb40a6&quot;,\n",
       "                {\n",
       "                    center: [41.9164, -84.0158],\n",
       "                    crs: L.CRS.EPSG3857,\n",
       "                    zoom: 9,\n",
       "                    zoomControl: true,\n",
       "                    preferCanvas: false,\n",
       "                }\n",
       "            );\n",
       "\n",
       "            \n",
       "\n",
       "        \n",
       "    \n",
       "            var tile_layer_3a4cbac26caec50f2d4c54c5dec1a84b = L.tileLayer(\n",
       "                &quot;https://{s}.tile.openstreetmap.org/{z}/{x}/{y}.png&quot;,\n",
       "                {&quot;attribution&quot;: &quot;Data by \\u0026copy; \\u003ca href=\\&quot;http://openstreetmap.org\\&quot;\\u003eOpenStreetMap\\u003c/a\\u003e, under \\u003ca href=\\&quot;http://www.openstreetmap.org/copyright\\&quot;\\u003eODbL\\u003c/a\\u003e.&quot;, &quot;detectRetina&quot;: false, &quot;maxNativeZoom&quot;: 18, &quot;maxZoom&quot;: 18, &quot;minZoom&quot;: 0, &quot;noWrap&quot;: false, &quot;opacity&quot;: 1, &quot;subdomains&quot;: &quot;abc&quot;, &quot;tms&quot;: false}\n",
       "            ).addTo(map_0ec0c66d186f23605095aa9c16cb40a6);\n",
       "        \n",
       "    \n",
       "            var marker_8d6f03ecbfb8056c09fcf489f413b9ba = L.marker(\n",
       "                [41.9164, -84.0158],\n",
       "                {}\n",
       "            ).addTo(map_0ec0c66d186f23605095aa9c16cb40a6);\n",
       "        \n",
       "    \n",
       "            var marker_3b73b67df03b3d20446e19027b514f70 = L.marker(\n",
       "                [42.2875, -83.7611],\n",
       "                {}\n",
       "            ).addTo(map_0ec0c66d186f23605095aa9c16cb40a6);\n",
       "        \n",
       "    \n",
       "            var marker_9e063db697863e175612ff1a1dfc9f39 = L.marker(\n",
       "                [42.2417, -83.6933],\n",
       "                {}\n",
       "            ).addTo(map_0ec0c66d186f23605095aa9c16cb40a6);\n",
       "        \n",
       "    \n",
       "            var marker_871135d6f3c7b7e7e9e5c04586291307 = L.marker(\n",
       "                [42.2947, -83.7108],\n",
       "                {}\n",
       "            ).addTo(map_0ec0c66d186f23605095aa9c16cb40a6);\n",
       "        \n",
       "    \n",
       "            var marker_43ddf08e2cf5124c1f0a30b78026f882 = L.marker(\n",
       "                [41.84, -83.8608],\n",
       "                {}\n",
       "            ).addTo(map_0ec0c66d186f23605095aa9c16cb40a6);\n",
       "        \n",
       "    \n",
       "            var marker_24db5c1d2734e71faf35e76c3e1bfcb7 = L.marker(\n",
       "                [42.0636, -83.4358],\n",
       "                {}\n",
       "            ).addTo(map_0ec0c66d186f23605095aa9c16cb40a6);\n",
       "        \n",
       "    \n",
       "            var marker_a107b85584511cdd8b0e8593a2715550 = L.marker(\n",
       "                [42.3264, -84.0133],\n",
       "                {}\n",
       "            ).addTo(map_0ec0c66d186f23605095aa9c16cb40a6);\n",
       "        \n",
       "    \n",
       "            var marker_e584fcd8cdbfcb6652bee559812ffba3 = L.marker(\n",
       "                [41.9553, -83.6489],\n",
       "                {}\n",
       "            ).addTo(map_0ec0c66d186f23605095aa9c16cb40a6);\n",
       "        \n",
       "    \n",
       "            var marker_3e3c4d42d8bb1d7c850086bb1660fc16 = L.marker(\n",
       "                [42.4344, -83.9858],\n",
       "                {}\n",
       "            ).addTo(map_0ec0c66d186f23605095aa9c16cb40a6);\n",
       "        \n",
       "    \n",
       "            var marker_b1ae79024ae83cdd727e9f316d6b3e28 = L.marker(\n",
       "                [42.1508, -84.0236],\n",
       "                {}\n",
       "            ).addTo(map_0ec0c66d186f23605095aa9c16cb40a6);\n",
       "        \n",
       "    \n",
       "            var marker_fdd4fe4ba48afd65a606536193518ad6 = L.marker(\n",
       "                [42.0664, -83.6186],\n",
       "                {}\n",
       "            ).addTo(map_0ec0c66d186f23605095aa9c16cb40a6);\n",
       "        \n",
       "    \n",
       "            var marker_a2bb77a14a34810919b0cdff43b98532 = L.marker(\n",
       "                [42.0811, -83.6769],\n",
       "                {}\n",
       "            ).addTo(map_0ec0c66d186f23605095aa9c16cb40a6);\n",
       "        \n",
       "    \n",
       "            var marker_a5e94e7b06a34503c9876ea5c9468ed2 = L.marker(\n",
       "                [41.9069, -83.4158],\n",
       "                {}\n",
       "            ).addTo(map_0ec0c66d186f23605095aa9c16cb40a6);\n",
       "        \n",
       "    \n",
       "            var marker_e7176a1a7384599b90d1a8659af95ef1 = L.marker(\n",
       "                [41.9497, -83.28],\n",
       "                {}\n",
       "            ).addTo(map_0ec0c66d186f23605095aa9c16cb40a6);\n",
       "        \n",
       "    \n",
       "            var marker_95454be48c01d9823b30790070c31be2 = L.marker(\n",
       "                [42.1611, -83.7819],\n",
       "                {}\n",
       "            ).addTo(map_0ec0c66d186f23605095aa9c16cb40a6);\n",
       "        \n",
       "    \n",
       "            var marker_5c26f33e532a3b3c08a52c7327f7c16d = L.marker(\n",
       "                [42.1236, -83.82],\n",
       "                {}\n",
       "            ).addTo(map_0ec0c66d186f23605095aa9c16cb40a6);\n",
       "        \n",
       "    \n",
       "            var marker_5bcd4c265b71bc949598126256d44c0b = L.marker(\n",
       "                [41.8069, -83.5831],\n",
       "                {}\n",
       "            ).addTo(map_0ec0c66d186f23605095aa9c16cb40a6);\n",
       "        \n",
       "    \n",
       "            var marker_6f800476be8c9cb86acbf8b290f0fb9f = L.marker(\n",
       "                [42.0028, -83.9336],\n",
       "                {}\n",
       "            ).addTo(map_0ec0c66d186f23605095aa9c16cb40a6);\n",
       "        \n",
       "    \n",
       "            var marker_b4a16010086cf0f60c2a012eaf0e5276 = L.marker(\n",
       "                [42.0283, -84.1108],\n",
       "                {}\n",
       "            ).addTo(map_0ec0c66d186f23605095aa9c16cb40a6);\n",
       "        \n",
       "    \n",
       "            var marker_3df7b2f7c36d48f1daa7b5d0b47083e1 = L.marker(\n",
       "                [42.4356, -83.7831],\n",
       "                {}\n",
       "            ).addTo(map_0ec0c66d186f23605095aa9c16cb40a6);\n",
       "        \n",
       "    \n",
       "            var marker_6a7681c98b31fbceb59e8934b6aacf53 = L.marker(\n",
       "                [41.5631, -83.4764],\n",
       "                {}\n",
       "            ).addTo(map_0ec0c66d186f23605095aa9c16cb40a6);\n",
       "        \n",
       "    \n",
       "            var marker_2a5e9ac7255c50081948ddd7a676097e = L.marker(\n",
       "                [42.2667, -84.4667],\n",
       "                {}\n",
       "            ).addTo(map_0ec0c66d186f23605095aa9c16cb40a6);\n",
       "        \n",
       "    \n",
       "            var marker_77453dad9f06d3ca442a1eb10fcab85f = L.marker(\n",
       "                [42.2333, -83.5333],\n",
       "                {}\n",
       "            ).addTo(map_0ec0c66d186f23605095aa9c16cb40a6);\n",
       "        \n",
       "    \n",
       "            var marker_fbfa8e6e6719cd5b07d69bfcd4dcf192 = L.marker(\n",
       "                [42.2228, -83.7444],\n",
       "                {}\n",
       "            ).addTo(map_0ec0c66d186f23605095aa9c16cb40a6);\n",
       "        \n",
       "&lt;/script&gt;\n",
       "&lt;/html&gt;\" style=\"position:absolute;width:100%;height:100%;left:0;top:0;border:none !important;\" allowfullscreen webkitallowfullscreen mozallowfullscreen></iframe></div></div>"
      ],
      "text/plain": [
       "<folium.folium.Map at 0x7f1e09410400>"
      ]
     },
     "metadata": {},
     "output_type": "display_data"
    }
   ],
   "source": [
    "#  I'll be using the folium package to render the data into a map in Jupyter.\n",
    "\n",
    "import folium\n",
    "import pandas as pd\n",
    "\n",
    "# get the location information for this dataset\n",
    "df = pd.read_csv('assets/BinSize_d400.csv')\n",
    "station_locations_by_hash = df[df['hash'] == 'fb441e62df2d58994928907a91895ec62c2c42e6cd075c2700843b89']\n",
    "\n",
    "# get longitude and lattitude to plot\n",
    "lons = station_locations_by_hash['LONGITUDE'].tolist()\n",
    "lats = station_locations_by_hash['LATITUDE'].tolist()\n",
    "\n",
    "# plot on a beautiful folium map\n",
    "my_map = folium.Map(location = [lats[0], lons[0]], height = 500,  zoom_start = 9)\n",
    "for lat, lon in zip(lats, lons):\n",
    "    folium.Marker([lat, lon]).add_to(my_map)\n",
    "\n",
    "# render map in Jupyter\n",
    "display(my_map)"
   ]
  },
  {
   "cell_type": "markdown",
   "metadata": {
    "deletable": false,
    "editable": false,
    "nbgrader": {
     "cell_type": "markdown",
     "checksum": "d2ee9d3c5ac53844b3ed48aa157f6204",
     "grade": false,
     "grade_id": "cell-695e4689bc5509b6",
     "locked": true,
     "schema_version": 3,
     "solution": false,
     "task": false
    }
   },
   "source": [
    "## Step 1\n",
    "Load the dataset and transform the data into Celsius (refer to documentation) then extract all of the rows which have minimum or maximum temperatures.\n",
    "\n",
    "__hint: when I did this step I had two DataFrame objects, each with ~80,000 entries in it__"
   ]
  },
  {
   "cell_type": "code",
   "execution_count": 4,
   "metadata": {
    "deletable": false,
    "editable": false,
    "nbgrader": {
     "cell_type": "code",
     "checksum": "dbfe393a2232a653ebbd81e518237a83",
     "grade": false,
     "grade_id": "cell-f508059dd84e9b7c",
     "locked": true,
     "schema_version": 3,
     "solution": false,
     "task": false
    }
   },
   "outputs": [
    {
     "data": {
      "text/html": [
       "<div>\n",
       "<style scoped>\n",
       "    .dataframe tbody tr th:only-of-type {\n",
       "        vertical-align: middle;\n",
       "    }\n",
       "\n",
       "    .dataframe tbody tr th {\n",
       "        vertical-align: top;\n",
       "    }\n",
       "\n",
       "    .dataframe thead th {\n",
       "        text-align: right;\n",
       "    }\n",
       "</style>\n",
       "<table border=\"1\" class=\"dataframe\">\n",
       "  <thead>\n",
       "    <tr style=\"text-align: right;\">\n",
       "      <th></th>\n",
       "      <th>ID</th>\n",
       "      <th>Date</th>\n",
       "      <th>Element</th>\n",
       "      <th>Data_Value</th>\n",
       "    </tr>\n",
       "  </thead>\n",
       "  <tbody>\n",
       "    <tr>\n",
       "      <th>0</th>\n",
       "      <td>USW00094889</td>\n",
       "      <td>2014-11-12</td>\n",
       "      <td>TMAX</td>\n",
       "      <td>22</td>\n",
       "    </tr>\n",
       "    <tr>\n",
       "      <th>1</th>\n",
       "      <td>USC00208972</td>\n",
       "      <td>2009-04-29</td>\n",
       "      <td>TMIN</td>\n",
       "      <td>56</td>\n",
       "    </tr>\n",
       "    <tr>\n",
       "      <th>2</th>\n",
       "      <td>USC00200032</td>\n",
       "      <td>2008-05-26</td>\n",
       "      <td>TMAX</td>\n",
       "      <td>278</td>\n",
       "    </tr>\n",
       "    <tr>\n",
       "      <th>3</th>\n",
       "      <td>USC00205563</td>\n",
       "      <td>2005-11-11</td>\n",
       "      <td>TMAX</td>\n",
       "      <td>139</td>\n",
       "    </tr>\n",
       "    <tr>\n",
       "      <th>4</th>\n",
       "      <td>USC00200230</td>\n",
       "      <td>2014-02-27</td>\n",
       "      <td>TMAX</td>\n",
       "      <td>-106</td>\n",
       "    </tr>\n",
       "  </tbody>\n",
       "</table>\n",
       "</div>"
      ],
      "text/plain": [
       "            ID        Date Element  Data_Value\n",
       "0  USW00094889  2014-11-12    TMAX          22\n",
       "1  USC00208972  2009-04-29    TMIN          56\n",
       "2  USC00200032  2008-05-26    TMAX         278\n",
       "3  USC00205563  2005-11-11    TMAX         139\n",
       "4  USC00200230  2014-02-27    TMAX        -106"
      ]
     },
     "execution_count": 4,
     "metadata": {},
     "output_type": "execute_result"
    }
   ],
   "source": [
    "import pandas as pd\n",
    "df = pd.read_csv('assets/fb441e62df2d58994928907a91895ec62c2c42e6cd075c2700843b89.csv')\n",
    "df.head()"
   ]
  },
  {
   "cell_type": "code",
   "execution_count": 5,
   "metadata": {},
   "outputs": [
    {
     "name": "stdout",
     "output_type": "stream",
     "text": [
      "83063\n",
      "82022\n"
     ]
    }
   ],
   "source": [
    "df_max=df[df['Element']=='TMAX']\n",
    "df_min=df[df['Element']=='TMIN']\n",
    "df_max=df_max[['ID','Date','Data_Value']]\n",
    "df_min=df_min[['ID','Date','Data_Value']]          \n",
    "print(len(df_max))\n",
    "print(len(df_min))"
   ]
  },
  {
   "cell_type": "markdown",
   "metadata": {
    "deletable": false,
    "editable": false,
    "nbgrader": {
     "cell_type": "markdown",
     "checksum": "76f2478088402765c38ed2b9db771916",
     "grade": false,
     "grade_id": "cell-c5718635688cb408",
     "locked": true,
     "schema_version": 3,
     "solution": false,
     "task": false
    }
   },
   "source": [
    "## Step 2\n",
    "In order to visualize the data we would plot the min and max data for each day of the year between the years 2005 and 2014 across all weather stations. But we also need to find out when the min or max temperature in 2015 falls below the min or rises above the max for the previous decade.\n",
    "\n",
    "If you did step 1 you have two Series objects with min and max times for the years 2005 through 2015. You can use Pandas `groupby` to create max and min temperature Series objects across all weather stations for each day of these years, and you can deal with the records for February 29 (the leap year) by dropping them.\n",
    "\n",
    "__hint: when I finished this step, I had two DataFrame objects, each with exactly 4015 observations in them__"
   ]
  },
  {
   "cell_type": "code",
   "execution_count": 9,
   "metadata": {
    "tags": []
   },
   "outputs": [
    {
     "name": "stdout",
     "output_type": "stream",
     "text": [
      "           Date  Data_Value\n",
      "0    2005-01-01         -56\n",
      "1    2005-01-02         -56\n",
      "2    2005-01-03           0\n",
      "3    2005-01-04         -39\n",
      "4    2005-01-05         -94\n",
      "...         ...         ...\n",
      "4010 2015-12-27          -6\n",
      "4011 2015-12-28         -39\n",
      "4012 2015-12-29         -39\n",
      "4013 2015-12-30         -22\n",
      "4014 2015-12-31         -56\n",
      "\n",
      "[4015 rows x 2 columns]\n"
     ]
    }
   ],
   "source": [
    "df_max['Date'] = pd.to_datetime(df_max['Date'])\n",
    "df_min['Date'] = pd.to_datetime(df_min['Date'])\n",
    "df_max=df_max[~((df_max['Date'].dt.month == 2) & (df_max['Date'].dt.day == 29))]\n",
    "df_min=df_min[~((df_min['Date'].dt.month == 2) & (df_min['Date'].dt.day == 29))]\n",
    "\n",
    "# Step 3: Group by date and calculate min and max temperatures\n",
    "min_temps = df_min.groupby('Date')['Data_Value'].min()\n",
    "max_temps = df_max.groupby('Date')['Data_Value'].max()\n",
    "\n",
    "max_temps = max_temps.reset_index()\n",
    "min_temps = min_temps.reset_index()\n",
    "\n",
    "print(min_temps)\n",
    "\n",
    "# Step 4: Compare min and max temperatures for 2015 with the previous decade"
   ]
  },
  {
   "cell_type": "markdown",
   "metadata": {
    "deletable": false,
    "editable": false,
    "nbgrader": {
     "cell_type": "markdown",
     "checksum": "0edac9c92f1b79eb9b21f302a3259c5e",
     "grade": false,
     "grade_id": "cell-d3a1a2647a47fe31",
     "locked": true,
     "schema_version": 3,
     "solution": false,
     "task": false
    }
   },
   "source": [
    "## Step 3\n",
    "Now that you have grouped the daily max and min temperatures for each day of the years 2005 through 2015, you can separate out the data for 2015. Then you can use the Pandas `groupby` function to find the max and min of the temperature data for each __day of the year__ for the 2005-2014 data.\n",
    "\n",
    "__hint: at the end of this step I had two DataFrames, one of maximum and the other of minimum values, which each had 365 observations in them. I also had another pair of similar DataFrames but only for the year 2015.__"
   ]
  },
  {
   "cell_type": "code",
   "execution_count": 10,
   "metadata": {},
   "outputs": [
    {
     "name": "stdout",
     "output_type": "stream",
     "text": [
      "37\n",
      "32\n"
     ]
    }
   ],
   "source": [
    "\n",
    "min_decade = min_temps[(min_temps['Date'] >= '2005-01-01') & (min_temps['Date'] < '2015-01-01')]\n",
    "max_decade = max_temps[(max_temps['Date'] >= '2005-01-01') & (max_temps['Date'] < '2015-01-01')]\n",
    "\n",
    "min_2015 = min_temps[(min_temps['Date'] >= '2015-01-01')]\n",
    "max_2015 = max_temps[(max_temps['Date'] >= '2015-01-01')]\n",
    "\n",
    "min_decade['Date'] = pd.to_datetime(min_decade['Date'])\n",
    "max_decade['Date'] = pd.to_datetime(max_decade['Date'])\n",
    "\n",
    "min_decade['Month'] = pd.DatetimeIndex(min_decade['Date']).month\n",
    "min_decade['Day'] = pd.DatetimeIndex(min_decade['Date']).day\n",
    "\n",
    "max_decade['Month'] = pd.DatetimeIndex(max_decade['Date']).month\n",
    "max_decade['Day'] = pd.DatetimeIndex(max_decade['Date']).day\n",
    "\n",
    "grouped_max = max_decade.groupby(['Month','Day']).max()\n",
    "grouped_min = min_decade.groupby(['Month','Day']).min()\n",
    "\n",
    "grouped_max = grouped_max.reset_index()\n",
    "grouped_min = grouped_min.reset_index()\n",
    "\n",
    "year_2015_max = max_2015.groupby('Date').max()\n",
    "year_2015_min = min_2015.groupby('Date').min()\n",
    "\n",
    "year_2015_max = year_2015_max.reset_index() \n",
    "year_2015_min = year_2015_min.reset_index() \n",
    "\n",
    "record_high = year_2015_max[year_2015_max['Data_Value'] > grouped_max['Data_Value']]\n",
    "record_low = year_2015_min[year_2015_min['Data_Value'] < grouped_min['Data_Value']]\n",
    "\n",
    "\n",
    "\n",
    "print(len(record_high))\n",
    "print(len(record_low))"
   ]
  },
  {
   "cell_type": "markdown",
   "metadata": {
    "deletable": false,
    "editable": false,
    "nbgrader": {
     "cell_type": "markdown",
     "checksum": "d7de066a05b833f7ded9353ee2215ba8",
     "grade": false,
     "grade_id": "cell-25711f5fdbe49515",
     "locked": true,
     "schema_version": 3,
     "solution": false,
     "task": false
    }
   },
   "source": [
    "## Step 4\n",
    "Now it's time to plot! You need to explore matplotlib in order to plot line graphs of the min and max temperatures for the years 2005 through 2014 and to scatter plot __only__ the daily 2015 temperatures that exceeded those values."
   ]
  },
  {
   "cell_type": "code",
   "execution_count": 14,
   "metadata": {},
   "outputs": [
    {
     "data": {
      "image/png": "[encoded data removed]",
      "text/plain": [
       "<Figure size 432x288 with 2 Axes>"
      ]
     },
     "metadata": {
      "needs_background": "light"
     },
     "output_type": "display_data"
    },
    {
     "data": {
      "text/plain": [
       "<Figure size 432x288 with 0 Axes>"
      ]
     },
     "metadata": {},
     "output_type": "display_data"
    }
   ],
   "source": [
    "import matplotlib.pyplot as plt\n",
    "from calendar import month_abbr\n",
    "xticks = (pd.date_range('1/1/2015','31/12/2015', freq = 'M') - pd.Timedelta(days=1)).strftime('%-j').astype(int)\n",
    "xticks_labels = pd.to_datetime(xticks, format = '%j').strftime('%b')\n",
    "\n",
    "\n",
    "plt.figure()  \n",
    "  \n",
    "ax1 = plt.gca()\n",
    "ax2 = ax1.twinx() \n",
    "\n",
    "plt.scatter(record_high.index,record_high['Data_Value'], color = 'r', s = 15)\n",
    "plt.scatter(record_low.index,record_low['Data_Value'], color = 'b', s = 15)\n",
    "\n",
    "ax2.plot(grouped_min['Data_Value'], '-',color ='k', alpha = 0.1,  linewidth=1)\n",
    "ax2.plot(grouped_max['Data_Value'],'-', color ='k', alpha = 0.3,  linewidth=1)\n",
    "ax2.fill_between(grouped_min.index, \n",
    "                       grouped_min['Data_Value'], grouped_max['Data_Value'], \n",
    "                       facecolor='gray', \n",
    "                       alpha=0.25)\n",
    "ax2.set_xlim(1,365)\n",
    "ax2.set_xticks(xticks)\n",
    "ax2.set_xticklabels(xticks_labels, alpha = 0.6)\n",
    "ax1.set_xticklabels(xticks_labels, alpha = 0.6)\n",
    "ax2.set_title('Low & High Temperature between 2005-2014 \\n and Record Braking Temperatures of 2015', alpha =0.6)\n",
    "\n",
    "axlim = ax1.set_ylim(-380,450)\n",
    "yticks = pd.Series([-300,0,400])\n",
    "ax1.set_yticks(yticks)\n",
    "\n",
    "ylabels = pd.Series(yticks/10).astype(int).astype(str) + ' °C'\n",
    "ax1.set_yticklabels(ylabels, alpha = 0.6)\n",
    "\n",
    "\n",
    "ax2.set_ylim(axlim)\n",
    "ax2.set_yticks(yticks)\n",
    "yticks_ax2 = (yticks/10 *  (9/5) + 32).astype(int)\n",
    "ylabels_ax2 = pd.Series(yticks_ax2).astype(int).astype(str) + ' °F'\n",
    "ax2.set_yticklabels(ylabels_ax2, alpha = 0.6)\n",
    "\n",
    "ax1.grid(True, alpha = 0.1)\n",
    "\n",
    "for spine in ax2.spines:\n",
    "    ax2.spines[spine].set_visible(False)\n",
    "for spine in ax1.spines:\n",
    "    ax1.spines[spine].set_visible(False)\n",
    "    \n",
    "ax1.spines['bottom'].set_visible(True)\n",
    "ax1.spines['bottom'].set_alpha(0.3)\n",
    "\n",
    "ax1.tick_params(axis=u'both', which=u'both',length=0)\n",
    "ax2.tick_params(axis=u'both', which=u'both',length=0)\n",
    "\n",
    "ax1.set_xlabel('Month', alpha = 0.8)\n",
    "ax1.set_ylabel('Temperature' , alpha = 0.8)\n",
    "\n",
    "\n",
    "leg = ax2.legend(loc=4,labels = ['Low (2005-2014)','High (2005-2014)','Record High','Record Low'], frameon = False, fontsize = 'x-small')\n",
    "plt.show()\n"
   ]
  },
  {
   "cell_type": "markdown",
   "metadata": {},
   "source": []
  }
 ],
 "metadata": {
  "coursera": {
   "schema_names": [
    "mooc_adswpy_v1_assignment2"
   ]
  },
  "etc_active_cell": 12,
  "kernelspec": {
   "display_name": "Python 3 (ipykernel)",
   "language": "python",
   "name": "python3"
  },
  "language_info": {
   "codemirror_mode": {
    "name": "ipython",
    "version": 3
   },
   "file_extension": ".py",
   "mimetype": "text/x-python",
   "name": "python",
   "nbconvert_exporter": "python",
   "pygments_lexer": "ipython3",
   "version": "3.8.10"
  }
 },
 "nbformat": 4,
 "nbformat_minor": 4
}
