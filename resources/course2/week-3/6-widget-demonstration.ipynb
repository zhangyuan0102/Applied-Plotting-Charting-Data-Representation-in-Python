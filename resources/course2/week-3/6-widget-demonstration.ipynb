{
 "cells": [
  {
   "cell_type": "markdown",
   "metadata": {},
   "source": [
    "# Widget Demonstration\n",
    "This lecture is a bit different, it's an extended topic that looks at the interactive functionality which is available within Jupyter. Jupyter has a notion of widgets, which allow you to build simple dashboards within notebooks to aid in your investigation. You can read more about the Jupyter widgets here, and please keep in mind that while everything I'm showing should work fine in your coursera system, it's quite likely that this fast moving world is already a bit out of date with the very latest!: https://ipywidgets.readthedocs.io/en/latest/"
   ]
  },
  {
   "cell_type": "code",
   "execution_count": null,
   "metadata": {},
   "outputs": [],
   "source": [
    "# We'll be using the interact function which comes as a decorator in python.\n",
    "from ipywidgets import interact\n",
    "import ipywidgets as widgets\n",
    "\n",
    "# Now, we're going to look at a small dataset which I collected of my biking data\n",
    "import pandas as pd\n",
    "import matplotlib.pyplot as plt\n",
    "\n",
    "# The dataset is actually pretty important to me, because while I was biking in 2019\n",
    "# I went into a roundabout - a traffic circle - a little too fast and completely wiped\n",
    "# out. This makes it a great thing to visualize!\n",
    "df=pd.read_csv(\"../assets/wipeout.csv\")\n",
    "df=df.set_index(pd.to_datetime(df[\"timestamp\"]))\n",
    "df.head()"
   ]
  },
  {
   "cell_type": "markdown",
   "metadata": {},
   "source": [
    "The dataset is made up of time and a set of sensors I was wearing while I was riding. These sensors picked up details such as my position and elevation, my speed, my heart rate, and more. I assume everyone goes for a bike ride like this."
   ]
  },
  {
   "cell_type": "code",
   "execution_count": null,
   "metadata": {},
   "outputs": [],
   "source": [
    "# Pandas has some build in support for plotting, but needs to be able to \"talk\" matplotlib.\n",
    "# We do this by indicating that we want our pandas plots to convert automatically for us\n",
    "from pandas.plotting import register_matplotlib_converters\n",
    "register_matplotlib_converters()"
   ]
  },
  {
   "cell_type": "code",
   "execution_count": null,
   "metadata": {},
   "outputs": [],
   "source": [
    "# Not all of the columns in my dataframe are good to visualize in a line plot. So I'm going\n",
    "# to iterate through my dataframe and just keep a list of the columns which are not of type\n",
    "# object (e.g. the column is a number)\n",
    "potential_columns=[]\n",
    "for col in df.columns:\n",
    "    if df[col].dtype != \"object\":\n",
    "        potential_columns.append(col)"
   ]
  },
  {
   "cell_type": "code",
   "execution_count": null,
   "metadata": {},
   "outputs": [],
   "source": [
    "# Ok, now I want to write a plot wrapper function. This function is going to plot\n",
    "# one or two columns, never more. If there is a single column passed in it will\n",
    "# plot that in blue (default color), but if there are two it's going to plot the\n",
    "# one column of data on top of the other, with the second column being in red. We're\n",
    "# going to use the plt.twinx() function here to ensure the x axis is the same (it's\n",
    "# going to be time, the dataframe index), but that the y axis can be unique for each\n",
    "# series of data.\n",
    "def plot_data(col_names):\n",
    "    plt.figure(figsize=[12,8])\n",
    "    plt.gcf().suptitle(str(col_names))\n",
    "    if len(col_names) ==2:\n",
    "        plt.plot(df[list(col_names)[0]],'b')\n",
    "        ax=plt.twinx()\n",
    "        ax.plot(df[list(col_names)[1]],'r')\n",
    "    else:\n",
    "        plt.plot(df[list(col_names)])"
   ]
  },
  {
   "cell_type": "code",
   "execution_count": null,
   "metadata": {},
   "outputs": [],
   "source": [
    "# Now let's just look at one example of two columns of data, say cadence versus\n",
    "# speed\n",
    "plot_data([\"cadence\",\"enhanced_speed\"])"
   ]
  },
  {
   "attachments": {},
   "cell_type": "markdown",
   "metadata": {},
   "source": [
    "Ok, it's pretty messy, but we can see that there is one moment around time 21:05 where cadence and speed did drop together. But let's get to the interactive part."
   ]
  },
  {
   "cell_type": "code",
   "execution_count": null,
   "metadata": {},
   "outputs": [],
   "source": [
    "# To make this interactive we can \"wrap\" this function with the @interact() decorator.\n",
    "# A decorator in python is just a function which wraps another function, and the ipython\n",
    "# team has written this one for us, it allows us to provide a new SelectMultiple widget\n",
    "# and use whatever is selected there as a parameter to plot_data. We set this up by\n",
    "# putting the decorator in front of the plot_data function definition, so I'm going to do\n",
    "# a little copy and paste here.\n",
    "\n",
    "# The SelectMultiple widget has three parameters, the set of options which are legal\n",
    "# (so this will be our potential column names) the values we want passed in (and time\n",
    "# will always be our first value we want passed in, followed by whatever other values\n",
    "# are selected), and some descriptive string.\n",
    "@interact(col_names=widgets.SelectMultiple(\n",
    "    options=potential_columns,\n",
    "    value=(potential_columns[0],),\n",
    "    description='Columns'))\n",
    "def plot_data(col_names):\n",
    "    plt.figure(figsize=[12,8])\n",
    "    plt.gcf().suptitle(str(col_names))\n",
    "    if len(col_names) ==2:\n",
    "        plt.plot(df[list(col_names)[0]],'b')\n",
    "        ax=plt.twinx()\n",
    "        ax.plot(df[list(col_names)[1]],'r')\n",
    "    else:\n",
    "        plt.plot(df[list(col_names)])\n",
    "\n"
   ]
  },
  {
   "cell_type": "markdown",
   "metadata": {},
   "source": [
    "Nice! Now we can explore and look at any two columns we might want. Of course, SPLOMs do give us some of this with small multiples, so you shouldn't discount that. But sometimes a dashboard can engage your reader in a different way, and let them see a slightly larger view of the data."
   ]
  },
  {
   "cell_type": "code",
   "execution_count": null,
   "metadata": {},
   "outputs": [],
   "source": [
    "# Lets look at one more example. Here I'm going to use a widget called an IntRangeSlider\n",
    "# which allows the reader to set a lower and upper bounds for something. I've written a\n",
    "# lot here and you can check the docs for more, but in this case I'm going to look at a\n",
    "# plot of my heart rate, where the reader gets to see all places between 80 and 100 but\n",
    "# can change this to filter based on values they are interested in. I'm also going to\n",
    "# create a text widget that allows them to set the start and end time, so you can zoom\n",
    "# in on a time of interest.\n",
    "@interact(heart_rate_bounds=widgets.IntRangeSlider(\n",
    "    value=[80, 100],\n",
    "    min=0,\n",
    "    max=180,\n",
    "    step=1,\n",
    "    description='HR Range:',\n",
    "    continuous_update=False,\n",
    "    readout_format='d',),\n",
    "    start=widgets.Text(\n",
    "    value=str(df.index[0]),\n",
    "    description='Start Time:'),\n",
    "    end=widgets.Text(\n",
    "    value=str(df.index[-1]),\n",
    "    description='End Time:'))\n",
    "\n",
    "def plot_hr(heart_rate_bounds, start, end):\n",
    "    plt.figure(figsize=[12,8])\n",
    "    \n",
    "    plt.xlim(left=df.index[0],right=df.index[-1])\n",
    "    plt.ylim(0,max(df[\"heart_rate\"]))\n",
    "    \n",
    "    ndf=df[(df[\"heart_rate\"]>heart_rate_bounds[0]) & \n",
    "           (df[\"heart_rate\"]<heart_rate_bounds[1]) & \n",
    "           (df.index>start) & (df.index<end)]\n",
    "    plt.scatter(ndf.index,ndf[\"heart_rate\"])"
   ]
  },
  {
   "cell_type": "markdown",
   "metadata": {},
   "source": [
    "Ok, that was a pretty whirwind demo of Juptyer widgets. The ecosystem for widgets is far from finished, but functionality is being added all of the time. I wanted to include this here because it's starting to get a bit more mature, and honestly, it's visuals like plots and charts that people want to use these widgets for. I hope you'll take a look and poke around with what is available, and maybe share your findings and creations with myself and the other students in the class."
   ]
  }
 ],
 "metadata": {
  "kernelspec": {
   "display_name": "Python 3",
   "language": "python",
   "name": "python3"
  },
  "language_info": {
   "codemirror_mode": {
    "name": "ipython",
    "version": 3
   },
   "file_extension": ".py",
   "mimetype": "text/x-python",
   "name": "python",
   "nbconvert_exporter": "python",
   "pygments_lexer": "ipython3",
   "version": "3.10.8 (v3.10.8:aaaf517424, Oct 11 2022, 10:14:40) [Clang 13.0.0 (clang-1300.0.29.30)]"
  },
  "vscode": {
   "interpreter": {
    "hash": "aee8b7b246df8f9039afb4144a1f6fd8d2ca17a180786b69acc140d282b71a49"
   }
  }
 },
 "nbformat": 4,
 "nbformat_minor": 4
}
