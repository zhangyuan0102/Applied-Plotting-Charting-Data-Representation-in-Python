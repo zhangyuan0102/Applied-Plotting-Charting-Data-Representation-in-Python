{
 "cells": [
  {
   "cell_type": "markdown",
   "metadata": {},
   "source": [
    "# Line Plots"
   ]
  },
  {
   "cell_type": "markdown",
   "metadata": {},
   "source": [
    "We've already seen line plots a couple times, but they looked a lot like scatter plots.\n",
    "\n",
    "A line plot is created with the `plot` function and renders a number of different series of data points and connects each point in a series with a line. Let's jump right in. \n",
    "So there are a couple of things which are new about this versus the scatter plots. \n",
    "\n",
    "- First, we only gave y-axes values to our plot call, no x axes values. Instead, the plot function was smart enough to figure out that what we wanted was to use the index of the series as the x value. Which is pretty handy when you want to make quick plots.\n",
    "- Second we see that the plot identifies this as two series of data and that the colors of the data from the series are different including the data points and the lines between the data points. This is different from the scatter plot which required us to label the lines directly."
   ]
  },
  {
   "cell_type": "code",
   "execution_count": null,
   "metadata": {},
   "outputs": [],
   "source": [
    "import matplotlib.pyplot as plt"
   ]
  },
  {
   "cell_type": "code",
   "execution_count": null,
   "metadata": {},
   "outputs": [],
   "source": [
    "# We can use numpy to use a linear series of data points one through eight. We'll \n",
    "# also create a number of quadratically increasing values as the second series. \n",
    "# Remember that you can use broadcasting in numpy to do this efficiently.\n",
    "import numpy as np\n",
    "\n",
    "linear_data = np.array([1,2,3,4,5,6,7,8])\n",
    "exponential_data = linear_data**2\n",
    "\n",
    "# This time I'll use the mini formatting language to describe how I want the markers\n",
    "# and lines to be rendered. The -o means to use a solid line with circle markers.\n",
    "# Note that I'm passing the data followed by the formatting for each series, so\n",
    "# we'll see the result as a two data series, the linear one at the bottom and the quadratic \n",
    "# one at the top.\n",
    "plt.figure()\n",
    "plt.plot(linear_data, '-o', exponential_data, '-o');"
   ]
  },
  {
   "cell_type": "code",
   "execution_count": null,
   "metadata": {},
   "outputs": [],
   "source": [
    "# It's pretty easy to extend this and add some arbitrary new line, this time I'll\n",
    "# use --r which says to plot a dashed line in red.\n",
    "plt.plot(linear_data, '-o', exponential_data, '-o')\n",
    "plt.plot([22,44,55], '--r');"
   ]
  },
  {
   "cell_type": "markdown",
   "metadata": {},
   "source": [
    "Wait, did you notice what I did there? I didn't call `plt.figure()`! By default pyplot's scripting interface will call plt.gcf() when you try and do something. If no figure is defined, it will create a new one for you. The way JupyterLab is configured by default it will automatically close a figure after each cell is executed, so this means pyplot is going to create a new figure for us for each and every cell. This is a great time saver -- good by `plt.figure()`! "
   ]
  },
  {
   "cell_type": "markdown",
   "metadata": {},
   "source": [
    "We can use the regular axes functions creating labels for the axes and for the figure as a whole. And we can create a legend too. But since we didn't label the data points as we did with the scatter plot, we need to create legend entries when we add the legend itself."
   ]
  },
  {
   "cell_type": "code",
   "execution_count": null,
   "metadata": {},
   "outputs": [],
   "source": [
    "# Create some meaningful labels\n",
    "plt.xlabel('Some data')\n",
    "plt.ylabel('Some other data')\n",
    "plt.title('A title')\n",
    "# Add a legend with legend entries (because we didn't have labels when we plotted the data series)\n",
    "plt.legend(['Baseline', 'Competition', 'Us'])\n",
    "plt.plot(linear_data, '-o', exponential_data, '-o')\n",
    "plt.plot([22,44,55], '--r');"
   ]
  },
  {
   "cell_type": "markdown",
   "metadata": {},
   "source": [
    "This is a good time to introduce the *fill between* function of matplotlib. Now this function isn't specific to line plots, but you can see it commonly used with these plots, so I'll introduce it in this context. Let's imagine that we want to highlight the difference between the green and the blue curves. We could tell the Axes to paint a color between these series using the fill between function."
   ]
  },
  {
   "cell_type": "code",
   "execution_count": null,
   "metadata": {},
   "outputs": [],
   "source": [
    "# Let's add our labels and legend just as before\n",
    "plt.xlabel('Some data')\n",
    "plt.ylabel('Some other data')\n",
    "plt.title('A title')\n",
    "plt.legend(['Baseline', 'Competition', 'Us'])\n",
    "plt.plot(linear_data, '-o', exponential_data, '-o')\n",
    "\n",
    "# Now we need to get the current axes object, and call fill_between. We didn't specify any x \n",
    "# values in our call to plot, so we'll just use the same range of data points it's already using. \n",
    "# Then we'll put in our lower bounds and our upper bounds along with the color we want painted \n",
    "# and for fun I'll include a transparency value. And that's all there is to it.\n",
    "plt.gca().fill_between(range(len(linear_data)), \n",
    "                       linear_data, exponential_data, \n",
    "                       facecolor='blue', \n",
    "                       alpha=0.25)"
   ]
  },
  {
   "cell_type": "markdown",
   "metadata": {},
   "source": [
    "Let's try working with dates!"
   ]
  },
  {
   "cell_type": "markdown",
   "metadata": {},
   "source": [
    "More likely you'll have a series of x values and y values which you're looking to plot. Often with line plots this comes in the form of date time on the x axes. Let's change our x axis to a series of eight date time instances in one day intervals."
   ]
  },
  {
   "cell_type": "code",
   "execution_count": null,
   "metadata": {},
   "outputs": [],
   "source": [
    "# I'll use the NumPy arrange function which you saw previously is really helpful to generate\n",
    "# some sample dates for us. We can ask for an arrangement of dates at daily intervals just \n",
    "# by providing the start and end dates.\n",
    "observation_dates = np.arange('2017-01-01', '2017-01-09', dtype='datetime64[D]')\n",
    "\n",
    "# We can now replot our linear and exponential data against this set of dates.\n",
    "plt.plot(observation_dates, linear_data, '-o',  observation_dates, exponential_data, '-o');"
   ]
  },
  {
   "cell_type": "markdown",
   "metadata": {},
   "source": [
    "This produces a pretty decent looking figure with the data we want. But the dates overlap pretty heavily. Now, there's a couple of things that we could do here. For instance, everything is from 2017. So we could iterate through and change the labels by stripping the year, and then add an x axis label which clarifies that it's all for the year of 2017. This is pretty reasonable, but I wanted to show you a couple of features of how matplotlib uses text instead.\n",
    "\n",
    "There are lots of interesting properties of the axes object and you should use some them in the assignment. For instance; you can get the grid lines, the tick locations for both major and minor ticks and so on. Just like all artists, an axes has a bunch of children which are themselves artists. In fact, if you're are following along in the JupyterLab notebook with this lecture why don't you just pause the video and run the `rec_gc` function we wrote earlier to explore what kind of artists the x axes object actually contains.\n",
    "\n",
    "What I want to show you though, is that you can access the text of the tics using the get tick labels function. Each of the tick labels are a text object which itself is an artist. This means that you can use a number of different artist functions and one specific to text is the set rotation function which changes the rotation based on degrees. Let's iterate through the axis labels and change that."
   ]
  },
  {
   "cell_type": "code",
   "execution_count": null,
   "metadata": {},
   "outputs": [],
   "source": [
    "# Our plot data\n",
    "observation_dates = np.arange('2017-01-01', '2017-01-09', dtype='datetime64[D]')\n",
    "plt.plot(observation_dates, linear_data, '-o',  observation_dates, exponential_data, '-o');\n",
    "\n",
    "# Now lets get a variable which points at the x axis\n",
    "x = plt.gca().xaxis\n",
    "\n",
    "# Now we can iterate through each one and rotate the tick labels\n",
    "for item in x.get_ticklabels():\n",
    "    item.set_rotation(45)"
   ]
  },
  {
   "cell_type": "markdown",
   "metadata": {},
   "source": [
    "Let's add back in our headings"
   ]
  },
  {
   "cell_type": "code",
   "execution_count": null,
   "metadata": {},
   "outputs": [],
   "source": [
    "# Merging code from previous\n",
    "observation_dates = np.arange('2017-01-01', '2017-01-09', dtype='datetime64[D]')\n",
    "plt.plot(observation_dates, linear_data, '-o',  observation_dates, exponential_data, '-o');\n",
    "\n",
    "x = plt.gca().xaxis\n",
    "for item in x.get_ticklabels():\n",
    "    item.set_rotation(45)\n",
    "    \n",
    "\n",
    "# Change our labels\n",
    "ax = plt.gca()\n",
    "ax.set_xlabel('Date')\n",
    "ax.set_ylabel('Units')\n",
    "ax.set_title('Exponential vs. Linear performance');"
   ]
  },
  {
   "cell_type": "markdown",
   "metadata": {},
   "source": [
    "And there we go, wonderfully readable dates in matplotlib. And when we're talking of text and readbility let me share two other insights, the first dealing with equations. Matplotlib has a fairly strong connection to LaTeX a type setting language used by mathematicians and scientists. This means that you can use a subset of LaTeX directly in your labels then matplotlib will render them as equations Here, for instance, we can set the title of the axes so that there's an x squared directly in it. We do this by escaping to LaTeX math mode with dollar signs. Note that this works regardless of whether you have LaTeX installed. But with a full LaTeX installation, you have significant control over text formatting.\n",
    "\n",
    "For the second insight, I want to talk about the size of the figure itself. Why are we looking at small postage stamp figures? Well, that depends on your screen size and resolution, but we can tell matplotlib that we want the figure to be a certain size by passing in parameters when we first make the figure. Here I'll specify it in inches, but there are various other dimension methods you can use."
   ]
  },
  {
   "cell_type": "code",
   "execution_count": null,
   "metadata": {},
   "outputs": [],
   "source": [
    "# By creating a new figure with the figsize parameter I'm telling matplotlib\n",
    "# that I want an 8x6 inch figure at 300 DPI\n",
    "plt.figure(figsize=(8,6))\n",
    "\n",
    "# Now we can bring in our plotting details from before\n",
    "observation_dates = np.arange('2017-01-01', '2017-01-09', dtype='datetime64[D]')\n",
    "plt.plot(observation_dates, linear_data, '-o',  observation_dates, exponential_data, '-o');\n",
    "x = plt.gca().xaxis\n",
    "# rotate the tick labels for the x axis\n",
    "for item in x.get_ticklabels():\n",
    "    item.set_rotation(45)\n",
    "ax = plt.gca()\n",
    "ax.set_xlabel('Date')\n",
    "ax.set_ylabel('Units')\n",
    "\n",
    "# And finally, I'll add in some mathematical expressions which you can do \n",
    "# in any text element\n",
    "ax.set_title(\"Exponential ($x^2$) vs. Linear ($x$) performance\");"
   ]
  },
  {
   "cell_type": "markdown",
   "metadata": {},
   "source": [
    "That's been a pretty successful look at matplotlib basics I think -- from the architecture overview to creating clean charts we could include in a report or just in our own data explorations. I want to show you one more this week in the next lecture, the bar chart."
   ]
  }
 ],
 "metadata": {
  "kernelspec": {
   "display_name": "Python 3 (ipykernel)",
   "language": "python",
   "name": "python3"
  },
  "language_info": {
   "codemirror_mode": {
    "name": "ipython",
    "version": 3
   },
   "file_extension": ".py",
   "mimetype": "text/x-python",
   "name": "python",
   "nbconvert_exporter": "python",
   "pygments_lexer": "ipython3",
   "version": "3.8.10"
  }
 },
 "nbformat": 4,
 "nbformat_minor": 4
}
