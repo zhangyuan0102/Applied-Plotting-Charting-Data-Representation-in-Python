{
 "cells": [
  {
   "cell_type": "markdown",
   "metadata": {},
   "source": [
    "# Dejunkifying a Plot\n",
    "In this lecture, I want to walk you through the process of taking a regular Matplotlib plot and applying Tufte's principles of data-ink ratio and chartjunk to make it just a little bit better. I'm going to walk through all of the steps using the Jupyter notebooks and you're welcome to follow along.\n",
    "\n",
    "But if you want a bit more of a challenge, I'll be including in video quizzes along the way which prompts you to solve the problem before I address.\n",
    "\n",
    "Let's get started -- We will use a plot of data on the popularity of programming languages from Stack Overflow for the year 2016.\n",
    "\n",
    "See the data here: [http://stackoverflow.com/research/developer-survey-2016#most-popular-technologies-per-occupation](http://stackoverflow.com/research/developer-survey-2016#most-popular-technologies-per-occupation)"
   ]
  },
  {
   "cell_type": "markdown",
   "metadata": {},
   "source": []
  },
  {
   "cell_type": "code",
   "execution_count": null,
   "metadata": {},
   "outputs": [],
   "source": [
    "import matplotlib.pyplot as plt\n",
    "import numpy as np\n",
    "\n",
    "# Here there are five different languages,\n",
    "# Python, SQL, Java, C++, and JavaScript.\n",
    "# We'll find their positions as a rank\n",
    "# using NumPy as a range function.\n",
    "# And here are the popularity\n",
    "# values from Stack Overflow.\n",
    "languages = ['Python', 'SQL', 'Java', 'C++', 'JavaScript']\n",
    "pos = np.arange(len(languages))\n",
    "popularity = [56, 39, 34, 34, 29]\n",
    "\n",
    "# We'll create a bar chart based on rank and\n",
    "# popularity, then add x and y ticks and\n",
    "# set a title.\n",
    "plt.figure(figsize=(10, 8));\n",
    "plt.bar(pos, popularity, align='center');\n",
    "plt.xticks(pos, languages);\n",
    "plt.ylabel('% Popularity');\n",
    "plt.title('Top 5 Languages for Math & Data \\nby % Popularity on Stack Overflow');"
   ]
  },
  {
   "cell_type": "markdown",
   "metadata": {},
   "source": [
    "Okay, here's the first challenge -- our plot has this frame around it, but it's not really necessary and it seems a little heavyweight.\n",
    "\n",
    "Let's remove that ink. This is a bit more involved, but we can get the current axis, then iterate through all the spine, setting their visibility to false.\n",
    "\n",
    "Already that will make the chart look much more lightweight."
   ]
  },
  {
   "cell_type": "code",
   "execution_count": null,
   "metadata": {},
   "outputs": [],
   "source": [
    "import matplotlib.pyplot as plt\n",
    "import numpy as np\n",
    "\n",
    "languages = ['Python', 'SQL', 'Java', 'C++', 'JavaScript']\n",
    "pos = np.arange(len(languages))\n",
    "popularity = [56, 39, 34, 34, 29]\n",
    "\n",
    "plt.figure(figsize=(10, 8));\n",
    "plt.bar(pos, popularity, align='center');\n",
    "plt.xticks(pos, languages);\n",
    "plt.ylabel('% Popularity');\n",
    "plt.title('Top 5 Languages for Math & Data \\nby % Popularity on Stack Overflow');\n",
    "\n",
    "# remove the frame of the chart\n",
    "for spine in plt.gca().spines.values():\n",
    "    spine.set_visible(False)"
   ]
  },
  {
   "cell_type": "markdown",
   "metadata": {},
   "source": [
    "Now, the blue is okay, but it doesn't really help us differentiate between the bars at all. How about we soften all of the hard blacks to gray, then we change the bar colors to gray as well?\n",
    "\n",
    "Also, let's keep the Python bar the same color of blue that it was originally to make it stand out."
   ]
  },
  {
   "cell_type": "code",
   "execution_count": null,
   "metadata": {},
   "outputs": [],
   "source": [
    "plt.figure(figsize=(10, 8));\n",
    "languages = ['Python', 'SQL', 'Java', 'C++', 'JavaScript']\n",
    "pos = np.arange(len(languages))\n",
    "popularity = [56, 39, 34, 34, 29]\n",
    "\n",
    "# There are several different ways that we could do this.\n",
    "# The way I chose was to add an alpha parameter to everything,\n",
    "# which adds a bit of transparency and softens the colors up a bit.\n",
    "# I also set the bars themselves to a neutral gray color then chose\n",
    "# a nice blue from the Python website to accentuate the first bar.\n",
    "\n",
    "# change the bar color to be less bright blue\n",
    "bars = plt.bar(pos, popularity, align='center', linewidth=0, color='lightslategrey')\n",
    "# change one bar, the python bar, to a contrasting color\n",
    "bars[0].set_color('#1F77B4')\n",
    "\n",
    "# soften all labels by turning grey\n",
    "plt.xticks(pos, languages, alpha=0.8)\n",
    "# set the title\n",
    "plt.title('Top 5 Languages for Math & Data \\nby % popularity on Stack Overflow', alpha=0.8)\n",
    "\n",
    "# remove the frame of the chart\n",
    "for spine in plt.gca().spines.values():\n",
    "    spine.set_visible(False)"
   ]
  },
  {
   "cell_type": "markdown",
   "metadata": {},
   "source": [
    "Now let's fix the y axis by removing the labels and just directly labeling the individual bars.\n",
    "\n",
    "We don't really need the y axis label, since the title tells us everything we need to know about the units in this chart."
   ]
  },
  {
   "cell_type": "code",
   "execution_count": null,
   "metadata": {
    "tags": []
   },
   "outputs": [],
   "source": [
    "plt.figure(figsize=(10, 8));\n",
    "languages = ['Python', 'SQL', 'Java', 'C++', 'JavaScript']\n",
    "pos = np.arange(len(languages))\n",
    "popularity = [56, 39, 34, 34, 29]\n",
    "\n",
    "bars = plt.bar(pos, popularity, align='center', linewidth=0, color='lightslategrey')\n",
    "bars[0].set_color('#1F77B4')\n",
    "\n",
    "plt.xticks(pos, languages, alpha=0.8)\n",
    "\n",
    "# We can remove the y label by just setting it to an empty list\n",
    "plt.yticks([])\n",
    "\n",
    "plt.title('Top 5 Languages for Math & Data \\nby % popularity on Stack Overflow', alpha=0.8)\n",
    "for spine in plt.gca().spines.values():\n",
    "    spine.set_visible(False)\n",
    "\n",
    "# Removing the label is easy, but changing\n",
    "# the bars is a little bit of a pain.\n",
    "# For this we want to iterate over each\n",
    "# of the bars and grab its height.\n",
    "# Then we want to create a new text\n",
    "# object with the data information.\n",
    "for bar in bars:\n",
    "    # Unfortunately, this means doing\n",
    "    # a little bit of playing with padding.\n",
    "    # Here I'll set up the x location to the bar\n",
    "    # x plus the width divided by two and\n",
    "    # the y location to be\n",
    "    # the bar height minus five.\n",
    "\n",
    "    # It might seem weird to get the middle\n",
    "    # of the bar in the x dimension, but\n",
    "    # that's because I'm setting the label\n",
    "    # to center itself, horizontally.\n",
    "\n",
    "    height = bar.get_height()\n",
    "    plt.gca().text(bar.get_x() + bar.get_width() / 2, bar.get_height() - 5, str(int(height)) + '%',\n",
    "                   ha='center', color='w', fontsize=11)"
   ]
  },
  {
   "cell_type": "markdown",
   "metadata": {},
   "source": [
    "And that's all there is to it. A simple series of steps to make your bar charts a little bit more usable.\n",
    "\n",
    "When you were watching this video, did you find a different way to do things? Perhaps other elements from Tufte or Cairo that you think could be used to make this more readable?\n",
    "\n",
    "Feel free to go into the discussion forums and share them with me and your classmates."
   ]
  }
 ],
 "metadata": {
  "anaconda-cloud": {},
  "kernelspec": {
   "display_name": "Python 3 (ipykernel)",
   "language": "python",
   "name": "python3"
  },
  "language_info": {
   "codemirror_mode": {
    "name": "ipython",
    "version": 3
   },
   "file_extension": ".py",
   "mimetype": "text/x-python",
   "name": "python",
   "nbconvert_exporter": "python",
   "pygments_lexer": "ipython3",
   "version": "3.8.10"
  }
 },
 "nbformat": 4,
 "nbformat_minor": 4
}
